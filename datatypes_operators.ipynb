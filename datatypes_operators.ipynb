{
 "cells": [
  {
   "cell_type": "markdown",
   "id": "e47d3c6d-55f1-4be5-adfc-bbe42ee1adc7",
   "metadata": {},
   "source": [
    "\t1.\tType Identification\n",
    "Write a program that takes user input and prints its data type."
   ]
  },
  {
   "cell_type": "code",
   "execution_count": 2,
   "id": "eb2965d0-86d9-4616-8c8f-6f7054f72b1f",
   "metadata": {},
   "outputs": [
    {
     "name": "stdin",
     "output_type": "stream",
     "text": [
      "Enter number: th\n"
     ]
    },
    {
     "name": "stdout",
     "output_type": "stream",
     "text": [
      "<class 'str'>\n"
     ]
    }
   ],
   "source": [
    "dat = input(\"Enter number:\")\n",
    "print(type(dat))"
   ]
  },
  {
   "cell_type": "markdown",
   "id": "aadda2d4-a1d3-4f86-8d28-b73bdbffccf0",
   "metadata": {},
   "source": [
    "\t2.\tExpression Evaluation\n",
    "Given the following expressions, compute and print the result:\n",
    "a = 10\n",
    "b = 3\n",
    "result = (a ** b) // (a % b)"
   ]
  },
  {
   "cell_type": "markdown",
   "id": "194839e9-f504-4341-ba79-bb68be26a3d0",
   "metadata": {},
   "source": [
    "3.\tCustom Calculator\n",
    "Write a Python function that takes two numbers and an operator (+, -, *, /, //, %, **) as input and returns the computed result. Handle invalid operators and divide-by-zero errors.\n"
   ]
  },
  {
   "cell_type": "code",
   "execution_count": 11,
   "id": "8a6647d9-4fea-41ba-916c-280dfe994176",
   "metadata": {},
   "outputs": [
    {
     "name": "stdout",
     "output_type": "stream",
     "text": [
      "13\n"
     ]
    }
   ],
   "source": [
    "def calc(num1, num2, operator):\n",
    "    if operator == '+':\n",
    "        return num1 + num2\n",
    "    elif operator == '-':\n",
    "        return num1 - num2\n",
    "    elif operator == '*':\n",
    "        return num1 * num2\n",
    "    elif operator == '/':\n",
    "        if num2 == 0:\n",
    "            return \"Error: Division by zero is not allowed.\"\n",
    "        return num1 / num2\n",
    "    elif operator == '//':\n",
    "        if num2 == 0:\n",
    "            return \"Error: Division by zero is not allowed.\"\n",
    "        return num1 // num2\n",
    "    elif operator == '%':\n",
    "        if num2 == 0:\n",
    "            return \"Error: Division by zero is not allowed.\"\n",
    "        return num1 % num2\n",
    "    elif operator == '**':\n",
    "        return num1 ** num2\n",
    "    else:\n",
    "        return \"Error: Invalid operator.\"\n",
    "print(calc(10, 3, '+'))"
   ]
  },
  {
   "cell_type": "code",
   "execution_count": null,
   "id": "41da8621-43b1-4b93-90e5-caa5ce8de116",
   "metadata": {},
   "outputs": [],
   "source": []
  }
 ],
 "metadata": {
  "kernelspec": {
   "display_name": "Python 3 (ipykernel)",
   "language": "python",
   "name": "python3"
  },
  "language_info": {
   "codemirror_mode": {
    "name": "ipython",
    "version": 3
   },
   "file_extension": ".py",
   "mimetype": "text/x-python",
   "name": "python",
   "nbconvert_exporter": "python",
   "pygments_lexer": "ipython3",
   "version": "3.11.7"
  }
 },
 "nbformat": 4,
 "nbformat_minor": 5
}
